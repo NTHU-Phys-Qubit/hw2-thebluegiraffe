{
 "cells": [
  {
   "cell_type": "code",
   "execution_count": 1,
   "metadata": {},
   "outputs": [],
   "source": [
    "import numpy as np\n",
    "import matplotlib.pyplot as plt"
   ]
  },
  {
   "cell_type": "markdown",
   "metadata": {},
   "source": [
    "# 1D Ising model + Transfer matrix\n",
    "\n",
    "* Construct the transfer matrix at temperature $T$ with external field $B$\n",
    "* Find the eivenvalues of the transfer matrix and compare to the exact results.\n",
    "* Evaluate the partition function $Z$ at different system size $N$ and $T$, $B$. Compare to the exact results.\n",
    "* For a fixed $N$, $T$, $B$, evaluate $\\langle S_0 S_j\\rangle$ where $j=0,1,\\cdots N$. \n",
    "* Plot $\\langle S_0 S_j\\rangle$ up to $j=N/2$ and show that it decays exponentially.\n",
    "  * Please try several $N$, $T$, $B$. What is the largest $N$ you can go? What is the lowest $T$ you can go?"
   ]
  },
  {
   "cell_type": "code",
   "execution_count": 2,
   "metadata": {},
   "outputs": [],
   "source": [
    "# Construct the transfer matrix at temperature 𝑇 with external field  𝐵\n",
    "\n",
    "kB = 1.0\n",
    "J = 1.0\n",
    "\n",
    "def transf(T,B):\n",
    "    beta = 1/(kB*T)\n",
    "    return np.array([[np.exp(beta*(J+B)), np.exp(-1*beta*J)],\n",
    "                   [np.exp(-1*beta*J), np.exp(beta*(J-B))]])"
   ]
  },
  {
   "cell_type": "code",
   "execution_count": 3,
   "metadata": {},
   "outputs": [
    {
     "name": "stdout",
     "output_type": "stream",
     "text": [
      "\n",
      "T = 0.100000, B = 0.000000\n",
      "[22026.46574941 22026.46584021]\n",
      "22026.465749406787 22026.46584020665\n",
      "\n",
      "T = 1.000000, B = 0.000000\n",
      "[2.35040239 3.08616127]\n",
      "2.3504023872876028 3.0861612696304874\n",
      "\n",
      "T = 0.100000, B = 1.000000\n",
      "[1.00000000e+00 4.85165195e+08]\n",
      "1.0 485165195.4097903\n",
      "\n",
      "T = 1.000000, B = 1.000000\n",
      "[0.97888741 7.41016869]\n",
      "0.9788874069094207 7.410168692021228\n"
     ]
    }
   ],
   "source": [
    "# Find the eivenvalues of the transfer matrix and compare to the exact results\n",
    "\n",
    "# numerical eigenvalues: np.linalg.eigvalsh(transf(T,B))\n",
    "\n",
    "# exact eigenvalues from det(transf - LI) = 0\n",
    "def L1(T,B):\n",
    "    beta = 1/(kB*T)\n",
    "    return np.exp(beta*J)*np.cosh(beta*B) + np.sqrt(np.exp(-2*beta*J)+np.exp(2*beta*J)*np.sinh(beta*B)**2)\n",
    "def L2(T,B):\n",
    "    beta = 1/(kB*T)\n",
    "    return np.exp(beta*J)*np.cosh(beta*B) - np.sqrt(np.exp(-2*beta*J)+np.exp(2*beta*J)*np.sinh(beta*B)**2)\n",
    "\n",
    "def compare(T,B):\n",
    "    print(\"\\nT = %f, B = %f\" %(T,B))\n",
    "    print(np.linalg.eigvalsh(transf(T,B)))\n",
    "    print(L2(T,B), L1(T,B))\n",
    "    \n",
    "compare(0.1,0)\n",
    "compare(1,0)\n",
    "compare(0.1,1)\n",
    "compare(1,1)"
   ]
  },
  {
   "cell_type": "code",
   "execution_count": 4,
   "metadata": {},
   "outputs": [
    {
     "name": "stdout",
     "output_type": "stream",
     "text": [
      "\n",
      "T = 0.100000, B = 0.000000, N = 1.000000\n",
      "44052.931589613436\n",
      "44052.931589613436\n",
      "\n",
      "T = 0.100000, B = 0.000000, N = 10.000000\n",
      "5.376234283632275e+43\n",
      "5.376234283632275e+43\n",
      "\n",
      "T = 0.100000, B = 0.000000, N = 50.000000\n",
      "2.807184435705699e+217\n",
      "2.807184435705698e+217\n",
      "\n",
      "T = 1.000000, B = 0.000000, N = 1.000000\n",
      "5.43656365691809\n",
      "5.43656365691809\n",
      "\n",
      "T = 1.000000, B = 0.000000, N = 10.000000\n",
      "83521.99056296558\n",
      "83521.99056296557\n",
      "\n",
      "T = 1.000000, B = 0.000000, N = 50.000000\n",
      "2.9575450221159007e+24\n",
      "2.9575450221159e+24\n",
      "\n",
      "T = 0.100000, B = 1.000000, N = 1.000000\n",
      "485165196.4097903\n",
      "485165196.4097903\n",
      "\n",
      "T = 0.100000, B = 1.000000, N = 10.000000\n",
      "7.225973768125749e+86\n",
      "7.225973768125749e+86\n"
     ]
    }
   ],
   "source": [
    "# Evaluate the partition function  𝑍  at different system size  𝑁  and  𝑇 ,  𝐵 . Compare to the exact results.\n",
    "\n",
    "def partition(T,B,N):\n",
    "    Tmatrix = transf(T,B)\n",
    "    t = np.array([[1,0],[0,1]])\n",
    "    for i in range(0,N):\n",
    "        t = t@Tmatrix\n",
    "    return np.trace(t)\n",
    "\n",
    "def Zexact(T,B,N):\n",
    "    return np.power(L1(T,B),N) + np.power(L2(T,B),N)\n",
    "\n",
    "def compareZ(T,B,N):\n",
    "    print(\"\\nT = %f, B = %f, N = %f\" %(T,B,N))\n",
    "    print(partition(T,B,N))\n",
    "    print(Zexact(T,B,N))\n",
    "\n",
    "compareZ(0.1,0,1)\n",
    "compareZ(0.1,0,10)\n",
    "compareZ(0.1,0,50)\n",
    "\n",
    "compareZ(1,0,1)\n",
    "compareZ(1,0,10)\n",
    "compareZ(1,0,50)\n",
    "\n",
    "compareZ(0.1,1,1)\n",
    "compareZ(0.1,1,10)"
   ]
  },
  {
   "cell_type": "code",
   "execution_count": 5,
   "metadata": {},
   "outputs": [
    {
     "name": "stdout",
     "output_type": "stream",
     "text": [
      "T = 0.500000, B = 0.000000, N = 50.000000\n",
      "1.0\n",
      "0.9741432356157533\n",
      "0.9495940644792682\n",
      "0.9263195342184027\n",
      "0.9042884034124916\n",
      "0.8834710996569551\n",
      "0.8638396798682368\n",
      "0.8453677927757856\n",
      "0.828030643550716\n",
      "0.8118049605236947\n",
      "0.7966689639473606\n",
      "0.7826023367613487\n",
      "0.7695861973206863\n",
      "0.7576030740509468\n",
      "0.7466368819961374\n",
      "0.736672901227853\n",
      "0.727697757086705\n",
      "0.7196994022295011\n",
      "0.7126671004580901\n",
      "0.7065914123081563\n",
      "0.701464182378615\n",
      "0.6972785283846116\n",
      "0.6940288319194287\n",
      "0.6917107309128898\n",
      "0.6903211137761507\n",
      "0.6898581152250138\n",
      "0.6903211137761514\n",
      "0.69171073091289\n",
      "0.6940288319194288\n",
      "0.6972785283846126\n",
      "0.7014641823786155\n",
      "0.7065914123081568\n",
      "0.7126671004580903\n",
      "0.7196994022295007\n",
      "0.7276977570867054\n",
      "0.7366729012278536\n",
      "0.7466368819961378\n",
      "0.7576030740509467\n",
      "0.7695861973206862\n",
      "0.7826023367613484\n",
      "0.7966689639473606\n",
      "0.8118049605236947\n",
      "0.8280306435507155\n",
      "0.8453677927757856\n",
      "0.8638396798682375\n",
      "0.8834710996569552\n",
      "0.9042884034124921\n",
      "0.9263195342184031\n",
      "0.9495940644792682\n",
      "0.9741432356157542\n"
     ]
    }
   ],
   "source": [
    "# For a fixed  𝑁 ,  𝑇 ,  𝐵 , evaluate  ⟨𝑆0𝑆𝑗⟩  where  𝑗=0,1,⋯𝑁 .\n",
    "\n",
    "def s0sj(T,B,N,j):\n",
    "    Tmatrix = transf(T,B)\n",
    "    Tz = np.array([[1,0],[0,-1]])\n",
    "    t = Tz\n",
    "    for i in range(0,N):\n",
    "        if i == j:\n",
    "            t = t@Tz@Tmatrix\n",
    "        else:\n",
    "            t = t@Tmatrix\n",
    "    return np.trace(t)\n",
    "\n",
    "T = 0.5\n",
    "B = 0\n",
    "N = 50\n",
    "\n",
    "print(\"T = %f, B = %f, N = %f\" %(T,B,N))\n",
    "\n",
    "Z = partition(T,B,N)\n",
    "for j in range(0,N):\n",
    "    print(s0sj(T,B,N,j)/Z)"
   ]
  },
  {
   "cell_type": "code",
   "execution_count": 6,
   "metadata": {},
   "outputs": [
    {
     "data": {
      "text/plain": [
       "[<matplotlib.lines.Line2D at 0x11d0773a0>]"
      ]
     },
     "execution_count": 6,
     "metadata": {},
     "output_type": "execute_result"
    },
    {
     "data": {
      "image/png": "[encoded data removed]",
      "text/plain": [
       "<Figure size 432x288 with 1 Axes>"
      ]
     },
     "metadata": {
      "needs_background": "light"
     },
     "output_type": "display_data"
    }
   ],
   "source": [
    "# Plot  ⟨𝑆0𝑆𝑗⟩  up to  𝑗=𝑁/2  and show that it decays exponentially.\n",
    "\n",
    "n = int(N/2)\n",
    "x = np.zeros(n)\n",
    "y = np.zeros(n)\n",
    "\n",
    "def corr(T,B,N):\n",
    "    Z = partition(T,B,N)\n",
    "    for j in range(0,n):\n",
    "        x[j] = j\n",
    "        y[j] = s0sj(T,B,N,j)/Z\n",
    "\n",
    "corr(T,B,N)\n",
    "fig, ax = plt.subplots()\n",
    "ax.plot(x,y,'o')"
   ]
  },
  {
   "cell_type": "code",
   "execution_count": 7,
   "metadata": {},
   "outputs": [
    {
     "data": {
      "text/plain": [
       "[<matplotlib.lines.Line2D at 0x11d0eb400>]"
      ]
     },
     "execution_count": 7,
     "metadata": {},
     "output_type": "execute_result"
    },
    {
     "data": {
      "image/png": "[encoded data removed]",
      "text/plain": [
       "<Figure size 432x288 with 1 Axes>"
      ]
     },
     "metadata": {
      "needs_background": "light"
     },
     "output_type": "display_data"
    }
   ],
   "source": [
    "# Please try several  𝑁 ,  𝑇 ,  𝐵 . What is the largest  𝑁  you can go?\n",
    "\n",
    "T = 1\n",
    "B = 0\n",
    "N = 629\n",
    "\n",
    "n = int(N/2)\n",
    "x = np.zeros(n)\n",
    "y = np.zeros(n)\n",
    "\n",
    "corr(T,B,N)\n",
    "fig, ax = plt.subplots()\n",
    "ax.plot(x,y,'o')"
   ]
  },
  {
   "cell_type": "code",
   "execution_count": 8,
   "metadata": {},
   "outputs": [
    {
     "data": {
      "text/plain": [
       "[<matplotlib.lines.Line2D at 0x11d1a42b0>]"
      ]
     },
     "execution_count": 8,
     "metadata": {},
     "output_type": "execute_result"
    },
    {
     "data": {
      "image/png": "[encoded data removed]",
      "text/plain": [
       "<Figure size 432x288 with 1 Axes>"
      ]
     },
     "metadata": {
      "needs_background": "light"
     },
     "output_type": "display_data"
    }
   ],
   "source": [
    "# What is the lowest  𝑇  you can go?\n",
    "\n",
    "T = 0.03\n",
    "B = 1\n",
    "N = 10\n",
    "\n",
    "n = int(N/2)\n",
    "x = np.zeros(n)\n",
    "y = np.zeros(n)\n",
    "\n",
    "corr(T,B,N)\n",
    "fig, ax = plt.subplots()\n",
    "ax.plot(x,y,'o')"
   ]
  }
 ],
 "metadata": {
  "kernelspec": {
   "display_name": "Python 3",
   "language": "python",
   "name": "python3"
  },
  "language_info": {
   "codemirror_mode": {
    "name": "ipython",
    "version": 3
   },
   "file_extension": ".py",
   "mimetype": "text/x-python",
   "name": "python",
   "nbconvert_exporter": "python",
   "pygments_lexer": "ipython3",
   "version": "3.8.1"
  }
 },
 "nbformat": 4,
 "nbformat_minor": 4
}
